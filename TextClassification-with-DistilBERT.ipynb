{
  "cells": [
    {
      "cell_type": "markdown",
      "metadata": {
        "id": "ZDZKPe2Tw82W"
      },
      "source": []
    },
    {
      "cell_type": "markdown",
      "metadata": {
        "id": "B8uk9HnwiUik"
      },
      "source": [
        "# Exercise 03 Notebook - Text Classification with BERT\n",
        "In this notebook we will create a Neural Network for Text Classification. As a basis for our Network we will use a pretrained BERT Model and just add a classification layer. We will train and test our dataset on the IMDB dataset we have already seen in the previous exercises."
      ]
    },
    {
      "cell_type": "markdown",
      "metadata": {
        "id": "88XYrS4ajzlP"
      },
      "source": [
        "## 1. Download the data, model , and tokenizer\n",
        "In a first step we will install transformers, an awesome library by huggingface that implements a lot of transformer models and also provides pretrained models in many languages that we can download and use for free."
      ]
    },
    {
      "cell_type": "code",
      "execution_count": 1,
      "metadata": {
        "colab": {
          "base_uri": "https://localhost:8080/"
        },
        "id": "nvGYkUUJ5_VX",
        "outputId": "61d53abe-c3f1-4142-bcb0-44efcbc72605"
      },
      "outputs": [
        {
          "name": "stdout",
          "output_type": "stream",
          "text": [
            "Looking in indexes: https://pypi.org/simple, https://us-python.pkg.dev/colab-wheels/public/simple/\n",
            "Requirement already satisfied: transformers in /usr/local/lib/python3.10/dist-packages (4.28.1)\n",
            "Requirement already satisfied: numpy>=1.17 in /usr/local/lib/python3.10/dist-packages (from transformers) (1.22.4)\n",
            "Requirement already satisfied: packaging>=20.0 in /usr/local/lib/python3.10/dist-packages (from transformers) (23.1)\n",
            "Requirement already satisfied: regex!=2019.12.17 in /usr/local/lib/python3.10/dist-packages (from transformers) (2022.10.31)\n",
            "Requirement already satisfied: tqdm>=4.27 in /usr/local/lib/python3.10/dist-packages (from transformers) (4.65.0)\n",
            "Requirement already satisfied: huggingface-hub<1.0,>=0.11.0 in /usr/local/lib/python3.10/dist-packages (from transformers) (0.14.1)\n",
            "Requirement already satisfied: tokenizers!=0.11.3,<0.14,>=0.11.1 in /usr/local/lib/python3.10/dist-packages (from transformers) (0.13.3)\n",
            "Requirement already satisfied: filelock in /usr/local/lib/python3.10/dist-packages (from transformers) (3.12.0)\n",
            "Requirement already satisfied: pyyaml>=5.1 in /usr/local/lib/python3.10/dist-packages (from transformers) (6.0)\n",
            "Requirement already satisfied: requests in /usr/local/lib/python3.10/dist-packages (from transformers) (2.27.1)\n",
            "Requirement already satisfied: fsspec in /usr/local/lib/python3.10/dist-packages (from huggingface-hub<1.0,>=0.11.0->transformers) (2023.4.0)\n",
            "Requirement already satisfied: typing-extensions>=3.7.4.3 in /usr/local/lib/python3.10/dist-packages (from huggingface-hub<1.0,>=0.11.0->transformers) (4.5.0)\n",
            "Requirement already satisfied: charset-normalizer~=2.0.0 in /usr/local/lib/python3.10/dist-packages (from requests->transformers) (2.0.12)\n",
            "Requirement already satisfied: urllib3<1.27,>=1.21.1 in /usr/local/lib/python3.10/dist-packages (from requests->transformers) (1.26.15)\n",
            "Requirement already satisfied: idna<4,>=2.5 in /usr/local/lib/python3.10/dist-packages (from requests->transformers) (3.4)\n",
            "Requirement already satisfied: certifi>=2017.4.17 in /usr/local/lib/python3.10/dist-packages (from requests->transformers) (2022.12.7)\n"
          ]
        }
      ],
      "source": [
        "# install transformer library via pip\n",
        "!pip install transformers"
      ]
    },
    {
      "cell_type": "markdown",
      "metadata": {
        "id": "G9448Mx8lCHT"
      },
      "source": [
        "Before we download a pretrained model, we download the data we will train our classifier on. Read the data from `https://raw.githubusercontent.com/LawrenceDuan/IMDb-Review-Analysis/master/IMDb_Reviews.csv` into a pandas DataFrame."
      ]
    },
    {
      "cell_type": "code",
      "execution_count": 2,
      "metadata": {
        "id": "8oidZKgWlZxD"
      },
      "outputs": [],
      "source": [
        "# import pandas\n",
        "import pandas as pd\n",
        "import matplotlib.pyplot as plt\n",
        "from tqdm.notebook import tqdm"
      ]
    },
    {
      "cell_type": "code",
      "execution_count": 3,
      "metadata": {
        "colab": {
          "base_uri": "https://localhost:8080/",
          "height": 206
        },
        "id": "DXJYl2l4IYCJ",
        "outputId": "056a3855-856c-4d3d-8c80-0ff8f56f9a66"
      },
      "outputs": [
        {
          "data": {
            "text/html": [
              "\n",
              "  <div id=\"df-e169ddd0-ee3a-4f20-bb8d-63a9c99c9b0f\">\n",
              "    <div class=\"colab-df-container\">\n",
              "      <div>\n",
              "<style scoped>\n",
              "    .dataframe tbody tr th:only-of-type {\n",
              "        vertical-align: middle;\n",
              "    }\n",
              "\n",
              "    .dataframe tbody tr th {\n",
              "        vertical-align: top;\n",
              "    }\n",
              "\n",
              "    .dataframe thead th {\n",
              "        text-align: right;\n",
              "    }\n",
              "</style>\n",
              "<table border=\"1\" class=\"dataframe\">\n",
              "  <thead>\n",
              "    <tr style=\"text-align: right;\">\n",
              "      <th></th>\n",
              "      <th>review</th>\n",
              "      <th>sentiment</th>\n",
              "    </tr>\n",
              "  </thead>\n",
              "  <tbody>\n",
              "    <tr>\n",
              "      <th>0</th>\n",
              "      <td>My family and I normally do not watch local mo...</td>\n",
              "      <td>1</td>\n",
              "    </tr>\n",
              "    <tr>\n",
              "      <th>1</th>\n",
              "      <td>Believe it or not, this was at one time the wo...</td>\n",
              "      <td>0</td>\n",
              "    </tr>\n",
              "    <tr>\n",
              "      <th>2</th>\n",
              "      <td>After some internet surfing, I found the \"Home...</td>\n",
              "      <td>0</td>\n",
              "    </tr>\n",
              "    <tr>\n",
              "      <th>3</th>\n",
              "      <td>One of the most unheralded great works of anim...</td>\n",
              "      <td>1</td>\n",
              "    </tr>\n",
              "    <tr>\n",
              "      <th>4</th>\n",
              "      <td>It was the Sixties, and anyone with long hair ...</td>\n",
              "      <td>0</td>\n",
              "    </tr>\n",
              "  </tbody>\n",
              "</table>\n",
              "</div>\n",
              "      <button class=\"colab-df-convert\" onclick=\"convertToInteractive('df-e169ddd0-ee3a-4f20-bb8d-63a9c99c9b0f')\"\n",
              "              title=\"Convert this dataframe to an interactive table.\"\n",
              "              style=\"display:none;\">\n",
              "        \n",
              "  <svg xmlns=\"http://www.w3.org/2000/svg\" height=\"24px\"viewBox=\"0 0 24 24\"\n",
              "       width=\"24px\">\n",
              "    <path d=\"M0 0h24v24H0V0z\" fill=\"none\"/>\n",
              "    <path d=\"M18.56 5.44l.94 2.06.94-2.06 2.06-.94-2.06-.94-.94-2.06-.94 2.06-2.06.94zm-11 1L8.5 8.5l.94-2.06 2.06-.94-2.06-.94L8.5 2.5l-.94 2.06-2.06.94zm10 10l.94 2.06.94-2.06 2.06-.94-2.06-.94-.94-2.06-.94 2.06-2.06.94z\"/><path d=\"M17.41 7.96l-1.37-1.37c-.4-.4-.92-.59-1.43-.59-.52 0-1.04.2-1.43.59L10.3 9.45l-7.72 7.72c-.78.78-.78 2.05 0 2.83L4 21.41c.39.39.9.59 1.41.59.51 0 1.02-.2 1.41-.59l7.78-7.78 2.81-2.81c.8-.78.8-2.07 0-2.86zM5.41 20L4 18.59l7.72-7.72 1.47 1.35L5.41 20z\"/>\n",
              "  </svg>\n",
              "      </button>\n",
              "      \n",
              "  <style>\n",
              "    .colab-df-container {\n",
              "      display:flex;\n",
              "      flex-wrap:wrap;\n",
              "      gap: 12px;\n",
              "    }\n",
              "\n",
              "    .colab-df-convert {\n",
              "      background-color: #E8F0FE;\n",
              "      border: none;\n",
              "      border-radius: 50%;\n",
              "      cursor: pointer;\n",
              "      display: none;\n",
              "      fill: #1967D2;\n",
              "      height: 32px;\n",
              "      padding: 0 0 0 0;\n",
              "      width: 32px;\n",
              "    }\n",
              "\n",
              "    .colab-df-convert:hover {\n",
              "      background-color: #E2EBFA;\n",
              "      box-shadow: 0px 1px 2px rgba(60, 64, 67, 0.3), 0px 1px 3px 1px rgba(60, 64, 67, 0.15);\n",
              "      fill: #174EA6;\n",
              "    }\n",
              "\n",
              "    [theme=dark] .colab-df-convert {\n",
              "      background-color: #3B4455;\n",
              "      fill: #D2E3FC;\n",
              "    }\n",
              "\n",
              "    [theme=dark] .colab-df-convert:hover {\n",
              "      background-color: #434B5C;\n",
              "      box-shadow: 0px 1px 3px 1px rgba(0, 0, 0, 0.15);\n",
              "      filter: drop-shadow(0px 1px 2px rgba(0, 0, 0, 0.3));\n",
              "      fill: #FFFFFF;\n",
              "    }\n",
              "  </style>\n",
              "\n",
              "      <script>\n",
              "        const buttonEl =\n",
              "          document.querySelector('#df-e169ddd0-ee3a-4f20-bb8d-63a9c99c9b0f button.colab-df-convert');\n",
              "        buttonEl.style.display =\n",
              "          google.colab.kernel.accessAllowed ? 'block' : 'none';\n",
              "\n",
              "        async function convertToInteractive(key) {\n",
              "          const element = document.querySelector('#df-e169ddd0-ee3a-4f20-bb8d-63a9c99c9b0f');\n",
              "          const dataTable =\n",
              "            await google.colab.kernel.invokeFunction('convertToInteractive',\n",
              "                                                     [key], {});\n",
              "          if (!dataTable) return;\n",
              "\n",
              "          const docLinkHtml = 'Like what you see? Visit the ' +\n",
              "            '<a target=\"_blank\" href=https://colab.research.google.com/notebooks/data_table.ipynb>data table notebook</a>'\n",
              "            + ' to learn more about interactive tables.';\n",
              "          element.innerHTML = '';\n",
              "          dataTable['output_type'] = 'display_data';\n",
              "          await google.colab.output.renderOutput(dataTable, element);\n",
              "          const docLink = document.createElement('div');\n",
              "          docLink.innerHTML = docLinkHtml;\n",
              "          element.appendChild(docLink);\n",
              "        }\n",
              "      </script>\n",
              "    </div>\n",
              "  </div>\n",
              "  "
            ],
            "text/plain": [
              "                                              review  sentiment\n",
              "0  My family and I normally do not watch local mo...          1\n",
              "1  Believe it or not, this was at one time the wo...          0\n",
              "2  After some internet surfing, I found the \"Home...          0\n",
              "3  One of the most unheralded great works of anim...          1\n",
              "4  It was the Sixties, and anyone with long hair ...          0"
            ]
          },
          "execution_count": 3,
          "metadata": {},
          "output_type": "execute_result"
        }
      ],
      "source": [
        "# Read the csv file and save it in a variable called data_df\n",
        "data_df = pd.read_csv(\"https://raw.githubusercontent.com/LawrenceDuan/IMDb-Review-Analysis/master/IMDb_Reviews.csv\")\n",
        "data_df.head()"
      ]
    },
    {
      "cell_type": "code",
      "execution_count": 4,
      "metadata": {
        "colab": {
          "base_uri": "https://localhost:8080/",
          "height": 206
        },
        "id": "Pv-I_pPPpVHW",
        "outputId": "790fe69f-092b-43c2-ee02-2019f9c9b719"
      },
      "outputs": [
        {
          "data": {
            "text/html": [
              "\n",
              "  <div id=\"df-1c49a667-caa3-45d3-98ca-3e0932ff04c0\">\n",
              "    <div class=\"colab-df-container\">\n",
              "      <div>\n",
              "<style scoped>\n",
              "    .dataframe tbody tr th:only-of-type {\n",
              "        vertical-align: middle;\n",
              "    }\n",
              "\n",
              "    .dataframe tbody tr th {\n",
              "        vertical-align: top;\n",
              "    }\n",
              "\n",
              "    .dataframe thead th {\n",
              "        text-align: right;\n",
              "    }\n",
              "</style>\n",
              "<table border=\"1\" class=\"dataframe\">\n",
              "  <thead>\n",
              "    <tr style=\"text-align: right;\">\n",
              "      <th></th>\n",
              "      <th>review</th>\n",
              "      <th>sentiment</th>\n",
              "    </tr>\n",
              "  </thead>\n",
              "  <tbody>\n",
              "    <tr>\n",
              "      <th>0</th>\n",
              "      <td>A not so good action thriller because it unsuc...</td>\n",
              "      <td>0</td>\n",
              "    </tr>\n",
              "    <tr>\n",
              "      <th>1</th>\n",
              "      <td>Whether it's three guys in their tighty-whitey...</td>\n",
              "      <td>1</td>\n",
              "    </tr>\n",
              "    <tr>\n",
              "      <th>2</th>\n",
              "      <td>I had read a few positive reviews of this film...</td>\n",
              "      <td>0</td>\n",
              "    </tr>\n",
              "    <tr>\n",
              "      <th>3</th>\n",
              "      <td>OK, if I was in the rental store and someone a...</td>\n",
              "      <td>0</td>\n",
              "    </tr>\n",
              "    <tr>\n",
              "      <th>4</th>\n",
              "      <td>It's hard to top this movie in several ways. E...</td>\n",
              "      <td>1</td>\n",
              "    </tr>\n",
              "  </tbody>\n",
              "</table>\n",
              "</div>\n",
              "      <button class=\"colab-df-convert\" onclick=\"convertToInteractive('df-1c49a667-caa3-45d3-98ca-3e0932ff04c0')\"\n",
              "              title=\"Convert this dataframe to an interactive table.\"\n",
              "              style=\"display:none;\">\n",
              "        \n",
              "  <svg xmlns=\"http://www.w3.org/2000/svg\" height=\"24px\"viewBox=\"0 0 24 24\"\n",
              "       width=\"24px\">\n",
              "    <path d=\"M0 0h24v24H0V0z\" fill=\"none\"/>\n",
              "    <path d=\"M18.56 5.44l.94 2.06.94-2.06 2.06-.94-2.06-.94-.94-2.06-.94 2.06-2.06.94zm-11 1L8.5 8.5l.94-2.06 2.06-.94-2.06-.94L8.5 2.5l-.94 2.06-2.06.94zm10 10l.94 2.06.94-2.06 2.06-.94-2.06-.94-.94-2.06-.94 2.06-2.06.94z\"/><path d=\"M17.41 7.96l-1.37-1.37c-.4-.4-.92-.59-1.43-.59-.52 0-1.04.2-1.43.59L10.3 9.45l-7.72 7.72c-.78.78-.78 2.05 0 2.83L4 21.41c.39.39.9.59 1.41.59.51 0 1.02-.2 1.41-.59l7.78-7.78 2.81-2.81c.8-.78.8-2.07 0-2.86zM5.41 20L4 18.59l7.72-7.72 1.47 1.35L5.41 20z\"/>\n",
              "  </svg>\n",
              "      </button>\n",
              "      \n",
              "  <style>\n",
              "    .colab-df-container {\n",
              "      display:flex;\n",
              "      flex-wrap:wrap;\n",
              "      gap: 12px;\n",
              "    }\n",
              "\n",
              "    .colab-df-convert {\n",
              "      background-color: #E8F0FE;\n",
              "      border: none;\n",
              "      border-radius: 50%;\n",
              "      cursor: pointer;\n",
              "      display: none;\n",
              "      fill: #1967D2;\n",
              "      height: 32px;\n",
              "      padding: 0 0 0 0;\n",
              "      width: 32px;\n",
              "    }\n",
              "\n",
              "    .colab-df-convert:hover {\n",
              "      background-color: #E2EBFA;\n",
              "      box-shadow: 0px 1px 2px rgba(60, 64, 67, 0.3), 0px 1px 3px 1px rgba(60, 64, 67, 0.15);\n",
              "      fill: #174EA6;\n",
              "    }\n",
              "\n",
              "    [theme=dark] .colab-df-convert {\n",
              "      background-color: #3B4455;\n",
              "      fill: #D2E3FC;\n",
              "    }\n",
              "\n",
              "    [theme=dark] .colab-df-convert:hover {\n",
              "      background-color: #434B5C;\n",
              "      box-shadow: 0px 1px 3px 1px rgba(0, 0, 0, 0.15);\n",
              "      filter: drop-shadow(0px 1px 2px rgba(0, 0, 0, 0.3));\n",
              "      fill: #FFFFFF;\n",
              "    }\n",
              "  </style>\n",
              "\n",
              "      <script>\n",
              "        const buttonEl =\n",
              "          document.querySelector('#df-1c49a667-caa3-45d3-98ca-3e0932ff04c0 button.colab-df-convert');\n",
              "        buttonEl.style.display =\n",
              "          google.colab.kernel.accessAllowed ? 'block' : 'none';\n",
              "\n",
              "        async function convertToInteractive(key) {\n",
              "          const element = document.querySelector('#df-1c49a667-caa3-45d3-98ca-3e0932ff04c0');\n",
              "          const dataTable =\n",
              "            await google.colab.kernel.invokeFunction('convertToInteractive',\n",
              "                                                     [key], {});\n",
              "          if (!dataTable) return;\n",
              "\n",
              "          const docLinkHtml = 'Like what you see? Visit the ' +\n",
              "            '<a target=\"_blank\" href=https://colab.research.google.com/notebooks/data_table.ipynb>data table notebook</a>'\n",
              "            + ' to learn more about interactive tables.';\n",
              "          element.innerHTML = '';\n",
              "          dataTable['output_type'] = 'display_data';\n",
              "          await google.colab.output.renderOutput(dataTable, element);\n",
              "          const docLink = document.createElement('div');\n",
              "          docLink.innerHTML = docLinkHtml;\n",
              "          element.appendChild(docLink);\n",
              "        }\n",
              "      </script>\n",
              "    </div>\n",
              "  </div>\n",
              "  "
            ],
            "text/plain": [
              "                                              review  sentiment\n",
              "0  A not so good action thriller because it unsuc...          0\n",
              "1  Whether it's three guys in their tighty-whitey...          1\n",
              "2  I had read a few positive reviews of this film...          0\n",
              "3  OK, if I was in the rental store and someone a...          0\n",
              "4  It's hard to top this movie in several ways. E...          1"
            ]
          },
          "execution_count": 4,
          "metadata": {},
          "output_type": "execute_result"
        }
      ],
      "source": [
        "# After reading in the data, shuffle the rows of the DataFrame\n",
        "data_df = data_df.sample(frac=1).reset_index(drop=True)\n",
        "data_df.head()"
      ]
    },
    {
      "cell_type": "markdown",
      "metadata": {
        "id": "KeLOUOaWwb_0"
      },
      "source": [
        "If you forget how the dataset looks like to a little bit of of data exploration"
      ]
    },
    {
      "cell_type": "code",
      "execution_count": 5,
      "metadata": {
        "colab": {
          "base_uri": "https://localhost:8080/"
        },
        "id": "L9BzebVVwrXW",
        "outputId": "bc5663a7-c942-4c5d-9469-24a755a04123"
      },
      "outputs": [
        {
          "data": {
            "text/plain": [
              "(50000, 2)"
            ]
          },
          "execution_count": 5,
          "metadata": {},
          "output_type": "execute_result"
        }
      ],
      "source": [
        "# Data Exploration\n",
        "data_df.shape"
      ]
    },
    {
      "cell_type": "code",
      "execution_count": 6,
      "metadata": {
        "colab": {
          "base_uri": "https://localhost:8080/"
        },
        "id": "mi9rqmsxd0OQ",
        "outputId": "07cd27f1-bcf4-4687-9fe8-04cdc7a69ed0"
      },
      "outputs": [
        {
          "name": "stdout",
          "output_type": "stream",
          "text": [
            "<class 'pandas.core.frame.DataFrame'>\n",
            "RangeIndex: 50000 entries, 0 to 49999\n",
            "Data columns (total 2 columns):\n",
            " #   Column     Non-Null Count  Dtype \n",
            "---  ------     --------------  ----- \n",
            " 0   review     50000 non-null  object\n",
            " 1   sentiment  50000 non-null  int64 \n",
            "dtypes: int64(1), object(1)\n",
            "memory usage: 781.4+ KB\n"
          ]
        }
      ],
      "source": [
        "data_df.info()"
      ]
    },
    {
      "cell_type": "markdown",
      "metadata": {
        "id": "5HtLtRgapslR"
      },
      "source": [
        "A lot of errors can happen when you build your dataset and model for the first time. It neat little trick is to not use all of your data from the beginning. The IMDB dataset we use has 50,000 training examples. To see if everything works we dont need to use all of our data. A small subset is enough, so it might be useful to just take 1000 examples at first and only use the full data at the very end when we no that everything works as intended."
      ]
    },
    {
      "cell_type": "code",
      "execution_count": 7,
      "metadata": {
        "id": "XUfaquLPpls2"
      },
      "outputs": [],
      "source": [
        "# FOR TESTING:\n",
        "# remove the comment to get the first 1000 rows of the dataframe\n",
        "\n",
        "# data_df = data_df.head(1000)"
      ]
    },
    {
      "cell_type": "code",
      "execution_count": 8,
      "metadata": {
        "id": "OJjGt00spNJy"
      },
      "outputs": [],
      "source": [
        "# Make an 80:20 split for training and validation data and save\n",
        "# them as train_df and val_df, respectively.\n",
        "from sklearn.model_selection import train_test_split\n",
        "\n",
        "train_df, val_df = train_test_split(data_df, test_size=0.2)\n",
        "\n",
        "train_df = train_df.reset_index(drop=True)\n",
        "val_df = val_df.reset_index(drop=True)"
      ]
    },
    {
      "cell_type": "code",
      "execution_count": 9,
      "metadata": {
        "colab": {
          "base_uri": "https://localhost:8080/"
        },
        "id": "QeUL-GFVe_QQ",
        "outputId": "1185f056-7d34-4d0e-d043-1fd9c6fbdd78"
      },
      "outputs": [
        {
          "name": "stdout",
          "output_type": "stream",
          "text": [
            "Training Size: 40000\n",
            "Validation Size: 10000\n"
          ]
        }
      ],
      "source": [
        "print(\"Training Size: \"+str(len(train_df)))\n",
        "print(\"Validation Size: \"+str(len(val_df)))"
      ]
    },
    {
      "cell_type": "markdown",
      "metadata": {
        "id": "ge5ie7hClmKu"
      },
      "source": [
        "Great! Now that we have our data at hand we will now download the pretrained BERT Model. To be more precise we will use a smaller version of BERT named DistilBERT which is a lot smaller than the normnal BERT model but has 95% of it's performance.\n",
        "\n",
        "\n",
        "\n",
        "> The DistilBERT model was proposed in the blog post Smaller, faster, cheaper, lighter: Introducing DistilBERT, a distilled version of BERT, and the paper DistilBERT, a distilled version of BERT: smaller, faster, cheaper and lighter. DistilBERT is a small, fast, cheap and light Transformer model trained by distilling BERT base. It has 40% less parameters than bert-base-uncased, runs 60% faster while preserving over 95% of BERT’s performances as measured on the GLUE language understanding benchmark.\n",
        "\n",
        "A smaller model allows much faster training and it makes much sense to try out ideas with a smaller model, because we can iterate much faster with a smaller model."
      ]
    },
    {
      "cell_type": "code",
      "execution_count": 10,
      "metadata": {
        "id": "9kd_Uo6r6VOI"
      },
      "outputs": [],
      "source": [
        "# import model and tokenizer classes\n",
        "from transformers import DistilBertModel, DistilBertTokenizer"
      ]
    },
    {
      "cell_type": "markdown",
      "metadata": {
        "id": "E5IbyGwAnpwI"
      },
      "source": [
        "The transformer library makes it very easy for us to download pretrained versions of a model and the corresponding tokenizer. You can find a pretrained model [here](https://huggingface.co/distilbert-base-uncased). You could try out more models.\n",
        "\n",
        "As already mentioned we want to use DistilBert for our classifier. Try to find a suitable model that we can use for our dataset and save it's name as a string in a variable:"
      ]
    },
    {
      "cell_type": "code",
      "execution_count": 11,
      "metadata": {
        "id": "s419l5b4oWIk"
      },
      "outputs": [],
      "source": [
        "# insert model name\n",
        "model_name = \"distilbert-base-uncased\""
      ]
    },
    {
      "cell_type": "code",
      "execution_count": 12,
      "metadata": {
        "colab": {
          "base_uri": "https://localhost:8080/"
        },
        "id": "BEWJsJbk6xeI",
        "outputId": "3f7d71b9-7afd-4e90-a35d-f701fcbd2d6b"
      },
      "outputs": [
        {
          "name": "stderr",
          "output_type": "stream",
          "text": [
            "Some weights of the model checkpoint at distilbert-base-uncased were not used when initializing DistilBertModel: ['vocab_projector.bias', 'vocab_transform.weight', 'vocab_transform.bias', 'vocab_layer_norm.bias', 'vocab_projector.weight', 'vocab_layer_norm.weight']\n",
            "- This IS expected if you are initializing DistilBertModel from the checkpoint of a model trained on another task or with another architecture (e.g. initializing a BertForSequenceClassification model from a BertForPreTraining model).\n",
            "- This IS NOT expected if you are initializing DistilBertModel from the checkpoint of a model that you expect to be exactly identical (initializing a BertForSequenceClassification model from a BertForSequenceClassification model).\n"
          ]
        }
      ],
      "source": [
        "bert_model = DistilBertModel.from_pretrained(model_name)\n",
        "tokenizer = DistilBertTokenizer.from_pretrained(model_name)"
      ]
    },
    {
      "cell_type": "markdown",
      "metadata": {
        "id": "5cVcneG8ovIj"
      },
      "source": [
        "## 2. Tokenizer\n",
        "After successfully downloading the pretrained model and tokenizer will use the  tokenizer to tokenize our text data."
      ]
    },
    {
      "cell_type": "markdown",
      "metadata": {
        "id": "cVB4CG02uXLa"
      },
      "source": [
        "### 2.1 Getting familiar with the tokenizer"
      ]
    },
    {
      "cell_type": "markdown",
      "metadata": {
        "id": "6e2_5CVVrjCo"
      },
      "source": [
        "As a little warm-up lets do a few exercises on the example text given below. If you don't know what to do have a look at the [tokenizer documentation](https://huggingface.co/transformers/main_classes/tokenizer.html)."
      ]
    },
    {
      "cell_type": "code",
      "execution_count": 13,
      "metadata": {
        "id": "JuMkIpAqrqq9"
      },
      "outputs": [],
      "source": [
        "example_text = \"\"\"Star wars made epic fantasy real. For a generation of people it has defined what the cinema experience is meant to be.\"\"\""
      ]
    },
    {
      "cell_type": "code",
      "execution_count": 14,
      "metadata": {
        "colab": {
          "base_uri": "https://localhost:8080/"
        },
        "id": "naSc8pEvN4jM",
        "outputId": "bfbd9c77-f651-4e62-8577-e0f1fb220ddc"
      },
      "outputs": [
        {
          "data": {
            "text/plain": [
              "['star',\n",
              " 'wars',\n",
              " 'made',\n",
              " 'epic',\n",
              " 'fantasy',\n",
              " 'real',\n",
              " '.',\n",
              " 'for',\n",
              " 'a',\n",
              " 'generation',\n",
              " 'of',\n",
              " 'people',\n",
              " 'it',\n",
              " 'has',\n",
              " 'defined',\n",
              " 'what',\n",
              " 'the',\n",
              " 'cinema',\n",
              " 'experience',\n",
              " 'is',\n",
              " 'meant',\n",
              " 'to',\n",
              " 'be',\n",
              " '.']"
            ]
          },
          "execution_count": 14,
          "metadata": {},
          "output_type": "execute_result"
        }
      ],
      "source": [
        "# tokenize the example_text\n",
        "# you should receive a list ['Star', 'wars', 'made', ..., '.']\n",
        "# first we build a list of tokens from the sentence \n",
        "example_list = tokenizer.tokenize(example_text)\n",
        "example_list"
      ]
    },
    {
      "cell_type": "code",
      "execution_count": 15,
      "metadata": {
        "colab": {
          "base_uri": "https://localhost:8080/"
        },
        "id": "qAOSti7SN0Bm",
        "outputId": "e19d919d-d6a6-4e98-aaae-186a1db7f84a"
      },
      "outputs": [
        {
          "data": {
            "text/plain": [
              "[101,\n",
              " 2732,\n",
              " 5233,\n",
              " 2081,\n",
              " 8680,\n",
              " 5913,\n",
              " 2613,\n",
              " 1012,\n",
              " 2005,\n",
              " 1037,\n",
              " 4245,\n",
              " 1997,\n",
              " 2111,\n",
              " 2009,\n",
              " 2038,\n",
              " 4225,\n",
              " 2054,\n",
              " 1996,\n",
              " 5988,\n",
              " 3325,\n",
              " 2003,\n",
              " 3214,\n",
              " 2000,\n",
              " 2022,\n",
              " 1012,\n",
              " 102]"
            ]
          },
          "execution_count": 15,
          "metadata": {},
          "output_type": "execute_result"
        }
      ],
      "source": [
        "# encode the example text.\n",
        "# you should receive a list of integers [101, 2537, 8755, ..., 102]\n",
        "# save the list into a variable encoded_text\n",
        "# The IDs we get are from the pretrained model that already has a list of token-ID pairs\n",
        "encoded_text = tokenizer.encode(example_list)\n",
        "encoded_text"
      ]
    },
    {
      "cell_type": "code",
      "execution_count": 16,
      "metadata": {
        "colab": {
          "base_uri": "https://localhost:8080/"
        },
        "id": "QgaMk6BJOCxG",
        "outputId": "f1770d2c-86e5-4776-e24b-2238e1f7b0d3"
      },
      "outputs": [
        {
          "name": "stdout",
          "output_type": "stream",
          "text": [
            "[CLS] star wars made epic fantasy real. for a generation of people it has defined what the cinema experience is meant to be. [SEP]\n",
            "We notice the 'CLS' (token 101) and 'SEP' (token 102) Values in the front and in the back.\n"
          ]
        }
      ],
      "source": [
        "# use the tokenizer to decode the encoded_text\n",
        "# do you notice something?\n",
        "decoded_text = tokenizer.decode(encoded_text)\n",
        "print(decoded_text)\n",
        "print(\"We notice the 'CLS' (token 101) and 'SEP' (token 102) Values in the front and in the back.\")"
      ]
    },
    {
      "cell_type": "code",
      "execution_count": 17,
      "metadata": {
        "colab": {
          "base_uri": "https://localhost:8080/"
        },
        "id": "LZoBEIzXtYqk",
        "outputId": "ed821d2f-e1e2-42d0-d05e-dfcf3c565b8f"
      },
      "outputs": [
        {
          "name": "stdout",
          "output_type": "stream",
          "text": [
            "{'input_ids': [101, 2732, 5233, 2081, 8680, 5913, 2613, 1012, 2005, 1037, 4245, 1997, 2111, 2009, 2038, 4225, 2054, 1996, 5988, 3325, 2003, 3214, 2000, 2022, 1012, 102], 'attention_mask': [1, 1, 1, 1, 1, 1, 1, 1, 1, 1, 1, 1, 1, 1, 1, 1, 1, 1, 1, 1, 1, 1, 1, 1, 1, 1]}\n",
            "<class 'transformers.tokenization_utils_base.BatchEncoding'>\n",
            "We receive an object that has the IDs and an attention mask.\n",
            "Each ID is a token index, numerical representations of tokens that are already stored in the pretrained model\n",
            "CLS stands for Classification, SEP seperates a sentence from a new one\n",
            "For the BertTokenizer, 1 indicates a value that should be attended to, while 0 indicates a padded value.\n"
          ]
        }
      ],
      "source": [
        "# use the tokenizer object as a function and use the\n",
        "# example_text as the input. What type of object do you receive?\n",
        "# What does each value mean?\n",
        "\n",
        "print(tokenizer(example_text))\n",
        "print(type(tokenizer(example_text)))\n",
        "# https://huggingface.co/transformers/v3.2.0/glossary.html#input-ids fand ich hilfreich\n",
        "print(\"We receive an object that has the IDs and an attention mask.\") \n",
        "print(\"Each ID is a token index, numerical representations of tokens that are already stored in the pretrained model\")\n",
        "print(\"CLS stands for Classification, SEP seperates a sentence from a new one\")\n",
        "print(\"For the BertTokenizer, 1 indicates a value that should be attended to, while 0 indicates a padded value.\")"
      ]
    },
    {
      "cell_type": "markdown",
      "metadata": {
        "id": "cNybb_B1ucqp"
      },
      "source": [
        "### 2.2 Tokenizing the data\n",
        "We are now ready to tokenize our test and validation dataset. Again use the tokenizer to create input_ids and attention_masks for the test and validation set. The tokenized text should have the following properties:\n",
        "* [CLS] and [SEP] token added\n",
        "* max length should be 128\n",
        "* texts with more than 128 tokens should be truncated\n",
        "* the tokenizer should return torch tensors.\n"
      ]
    },
    {
      "cell_type": "code",
      "execution_count": 18,
      "metadata": {
        "colab": {
          "base_uri": "https://localhost:8080/"
        },
        "id": "bJo5NL97XcMC",
        "outputId": "4363694b-ad80-4c3d-f87b-c61f158f4000"
      },
      "outputs": [
        {
          "data": {
            "text/plain": [
              "{'input_ids': tensor([[ 101, 2069, 5815,  ..., 1996, 1005,  102],\n",
              "        [ 101, 2086, 3283,  ..., 1999, 2026,  102],\n",
              "        [ 101, 1000, 2132,  ..., 1037, 2502,  102],\n",
              "        ...,\n",
              "        [ 101, 2023, 3185,  ..., 2177, 1997,  102],\n",
              "        [ 101, 2444, 1037,  ..., 1998, 2009,  102],\n",
              "        [ 101, 1045, 2293,  ..., 2006, 1998,  102]]), 'attention_mask': tensor([[1, 1, 1,  ..., 1, 1, 1],\n",
              "        [1, 1, 1,  ..., 1, 1, 1],\n",
              "        [1, 1, 1,  ..., 1, 1, 1],\n",
              "        ...,\n",
              "        [1, 1, 1,  ..., 1, 1, 1],\n",
              "        [1, 1, 1,  ..., 1, 1, 1],\n",
              "        [1, 1, 1,  ..., 1, 1, 1]])}"
            ]
          },
          "execution_count": 18,
          "metadata": {},
          "output_type": "execute_result"
        }
      ],
      "source": [
        "# Apply the tokenizer to the training text data and save the resulting dict\n",
        "# in a variable called tokenized_val_data // Nehme mal an das hier war ein Fehler in der Aufgabenstellung\n",
        "\n",
        "tokenized_train_data = tokenizer(list(train_df[\"review\"]), return_tensors='pt', truncation=True, padding=True, max_length=128)\n",
        "tokenized_train_data"
      ]
    },
    {
      "cell_type": "code",
      "execution_count": 19,
      "metadata": {
        "colab": {
          "base_uri": "https://localhost:8080/"
        },
        "id": "-KdLaFwRfP3O",
        "outputId": "4238e379-aa76-4009-dc1b-9c6e654b985d"
      },
      "outputs": [
        {
          "data": {
            "text/plain": [
              "{'input_ids': tensor([[  101,  1045,  2387,  ...,     0,     0,     0],\n",
              "        [  101,  2023,  3185,  ...,     0,     0,     0],\n",
              "        [  101, 22953,  2094,  ..., 21146,  4103,   102],\n",
              "        ...,\n",
              "        [  101,  2074,  3427,  ...,  3154,  1007,   102],\n",
              "        [  101,  1026,  7987,  ...,     0,     0,     0],\n",
              "        [  101,  4406,  2203,  ...,  7987,  1013,   102]]), 'attention_mask': tensor([[1, 1, 1,  ..., 0, 0, 0],\n",
              "        [1, 1, 1,  ..., 0, 0, 0],\n",
              "        [1, 1, 1,  ..., 1, 1, 1],\n",
              "        ...,\n",
              "        [1, 1, 1,  ..., 1, 1, 1],\n",
              "        [1, 1, 1,  ..., 0, 0, 0],\n",
              "        [1, 1, 1,  ..., 1, 1, 1]])}"
            ]
          },
          "execution_count": 19,
          "metadata": {},
          "output_type": "execute_result"
        }
      ],
      "source": [
        "# Apply the tokenizer to the validation text data and save the resulting dict\n",
        "# in a variable called tokenized_train_data // Nehme mal an das hier war ein Fehler in der Aufgabenstellung\n",
        "tokenized_val_data = tokenizer(list(val_df[\"review\"]), return_tensors='pt', truncation=True, padding=True, max_length=128)\n",
        "tokenized_val_data"
      ]
    },
    {
      "cell_type": "code",
      "execution_count": 20,
      "metadata": {
        "colab": {
          "base_uri": "https://localhost:8080/"
        },
        "id": "yzCZ8ypYXfMv",
        "outputId": "c84155da-6d92-4431-b536-90c7fef15064"
      },
      "outputs": [
        {
          "data": {
            "text/plain": [
              "tensor([[ 101, 2069, 5815,  ..., 1996, 1005,  102],\n",
              "        [ 101, 2086, 3283,  ..., 1999, 2026,  102],\n",
              "        [ 101, 1000, 2132,  ..., 1037, 2502,  102],\n",
              "        ...,\n",
              "        [ 101, 2023, 3185,  ..., 2177, 1997,  102],\n",
              "        [ 101, 2444, 1037,  ..., 1998, 2009,  102],\n",
              "        [ 101, 1045, 2293,  ..., 2006, 1998,  102]])"
            ]
          },
          "execution_count": 20,
          "metadata": {},
          "output_type": "execute_result"
        }
      ],
      "source": [
        "# have a look at the input_ids of the tokenized_train_data\n",
        "tokenized_train_data[\"input_ids\"]"
      ]
    },
    {
      "cell_type": "code",
      "execution_count": 21,
      "metadata": {
        "colab": {
          "base_uri": "https://localhost:8080/"
        },
        "id": "Ynf_QqS7XwUb",
        "outputId": "703d1426-72ee-47b1-d185-2b0d98b31c11"
      },
      "outputs": [
        {
          "data": {
            "text/plain": [
              "tensor([[1, 1, 1,  ..., 1, 1, 1],\n",
              "        [1, 1, 1,  ..., 1, 1, 1],\n",
              "        [1, 1, 1,  ..., 1, 1, 1],\n",
              "        ...,\n",
              "        [1, 1, 1,  ..., 1, 1, 1],\n",
              "        [1, 1, 1,  ..., 1, 1, 1],\n",
              "        [1, 1, 1,  ..., 1, 1, 1]])"
            ]
          },
          "execution_count": 21,
          "metadata": {},
          "output_type": "execute_result"
        }
      ],
      "source": [
        "# have a look at the attention_mask of the tokenized_train_data\n",
        "tokenized_train_data[\"attention_mask\"]"
      ]
    },
    {
      "cell_type": "markdown",
      "metadata": {
        "id": "rLmYtMOXwDIJ"
      },
      "source": [
        "## 3. Creating the test and validation Dataset and DataLoader\n",
        "Our train and evaluation data in vector format and we can now use the tokenized text to create our Dataset and DataLoader class"
      ]
    },
    {
      "cell_type": "code",
      "execution_count": 22,
      "metadata": {
        "id": "KTYWyiVBXOiG"
      },
      "outputs": [],
      "source": [
        "import torch\n",
        "import torch.nn as nn\n",
        "# import Dataset and DataLoader class\n",
        "from torch.utils.data import Dataset, DataLoader"
      ]
    },
    {
      "cell_type": "markdown",
      "metadata": {
        "id": "rMwTMKT7xLly"
      },
      "source": [
        "Now create a Dataset class called TextDataset. As always we will need to implement three functions:\n",
        "* `__init__`\n",
        "* `__len__`\n",
        "* `__getitem__`\n",
        "\n",
        "The `__init__` function should take tokenized data and the labels as arguments\n",
        "and store them into the class variables `X` and `Y`\n",
        "\n",
        "The `__len__` function should return the length of the dataset\n",
        "\n",
        "The `__getitem__` should take index as input and return a tuple of data that looks like this `(input_ids, attention_mask, labels)`\n"
      ]
    },
    {
      "cell_type": "code",
      "execution_count": 23,
      "metadata": {
        "id": "WMcFKxygZW93"
      },
      "outputs": [],
      "source": [
        "class TextDataset(Dataset):\n",
        "\n",
        "  def __init__(self, X, Y):\n",
        "    self.X = X\n",
        "    self.Y = Y\n",
        "  \n",
        "  def __len__(self,):\n",
        "    return len(self.Y)\n",
        "\n",
        "  def __getitem__(self, index):\n",
        "    return (self.X[\"input_ids\"][index], self.X[\"attention_mask\"][index], self.Y[index])"
      ]
    },
    {
      "cell_type": "markdown",
      "metadata": {
        "id": "h5jr3430yX1P"
      },
      "source": [
        "Create a `train_dataset` and `val_dataset`:"
      ]
    },
    {
      "cell_type": "code",
      "execution_count": 24,
      "metadata": {
        "id": "AH4cudPNZXz3"
      },
      "outputs": [],
      "source": [
        "train_dataset = TextDataset(tokenized_train_data, train_df[\"sentiment\"])\n",
        "val_dataset = TextDataset(tokenized_val_data, val_df[\"sentiment\"])"
      ]
    },
    {
      "cell_type": "code",
      "execution_count": 25,
      "metadata": {
        "colab": {
          "base_uri": "https://localhost:8080/"
        },
        "id": "PFXy1Mt0TSKr",
        "outputId": "f00ead99-7155-404d-9858-15e15149caa8"
      },
      "outputs": [
        {
          "data": {
            "text/plain": [
              "(tensor([  101,  2069,  5815,  2000,  1996,  7165,  1997,  2111,  2040,  8357,\n",
              "          2023,  2000,  2022,  1005,  4895,  5596, 21564,  3085,  1005,  1045,\n",
              "          2097,  2110,  1996,  2206,  2302, 15192,  1996,  5793, 21407, 24250,\n",
              "          3090,  2011,  2070,  1997,  1996,  2060, 15957,  1024,  1996,  1000,\n",
              "          2143,  1000,  2003,  2915,  2006,  2678,  1006,  2054,  2828,  1997,\n",
              "          4950,  1045,  2123,  1005,  1056,  2113,  1007,  2021,  1996,  4950,\n",
              "          2386,  2018,  2009,  2006,  8285, 14876,  7874,  1006,   999,  1007,\n",
              "          2035,  1996,  2051,  1010,  2061,  2008,  2151,  7263,  2929,  3084,\n",
              "          2009,  2175,  1999,  1998,  2041,  1997,  3579,  1012,  1999,  2116,\n",
              "          1997,  1996,  5019,  1996,  5889,  3209,  2175,  2041,  1997,  3579,\n",
              "          2005,  2037,  5019,  1012,  2023,  2894, 11652,  1000,  5515,  1000,\n",
              "          1012,  1026,  7987,  1013,  1028,  1026,  7987,  1013,  1028,  1045,\n",
              "          2036,  4384,  2008,  2041,  1999,  1996,  1005,   102]),\n",
              " tensor([1, 1, 1, 1, 1, 1, 1, 1, 1, 1, 1, 1, 1, 1, 1, 1, 1, 1, 1, 1, 1, 1, 1, 1,\n",
              "         1, 1, 1, 1, 1, 1, 1, 1, 1, 1, 1, 1, 1, 1, 1, 1, 1, 1, 1, 1, 1, 1, 1, 1,\n",
              "         1, 1, 1, 1, 1, 1, 1, 1, 1, 1, 1, 1, 1, 1, 1, 1, 1, 1, 1, 1, 1, 1, 1, 1,\n",
              "         1, 1, 1, 1, 1, 1, 1, 1, 1, 1, 1, 1, 1, 1, 1, 1, 1, 1, 1, 1, 1, 1, 1, 1,\n",
              "         1, 1, 1, 1, 1, 1, 1, 1, 1, 1, 1, 1, 1, 1, 1, 1, 1, 1, 1, 1, 1, 1, 1, 1,\n",
              "         1, 1, 1, 1, 1, 1, 1, 1]),\n",
              " 0)"
            ]
          },
          "execution_count": 25,
          "metadata": {},
          "output_type": "execute_result"
        }
      ],
      "source": [
        "train_dataset[0]"
      ]
    },
    {
      "cell_type": "markdown",
      "metadata": {
        "id": "LbuWY7dLyzVw"
      },
      "source": [
        "Create the training DataLoader `train_dl` and the validation DataLoader `val_dl` with a batch size of 32:"
      ]
    },
    {
      "cell_type": "code",
      "execution_count": 26,
      "metadata": {
        "id": "ntTFu3O8yxzp"
      },
      "outputs": [],
      "source": [
        "train_dl = DataLoader(train_dataset, batch_size=32, shuffle=True)\n",
        "val_dl = DataLoader(val_dataset, batch_size=32, shuffle=True)"
      ]
    },
    {
      "cell_type": "code",
      "execution_count": 27,
      "metadata": {
        "colab": {
          "base_uri": "https://localhost:8080/"
        },
        "id": "q0LuKmmnQpPQ",
        "outputId": "8baa39fe-354d-4a58-f54d-816221247f2a"
      },
      "outputs": [
        {
          "data": {
            "text/plain": [
              "<torch.utils.data.dataloader.DataLoader at 0x7f260391b640>"
            ]
          },
          "execution_count": 27,
          "metadata": {},
          "output_type": "execute_result"
        }
      ],
      "source": [
        "train_dl"
      ]
    },
    {
      "cell_type": "markdown",
      "metadata": {
        "id": "N6rsG6VVzfpn"
      },
      "source": [
        "# 4. Creating the Model\n",
        "In this part we will create our model using the pretrained DistilBert model that we downloaded at the beginning. Before we add our classifier to the network we first need to understand what exactly the DistilBert models output looks like."
      ]
    },
    {
      "cell_type": "markdown",
      "metadata": {
        "id": "6HkrcYJEgQJ3"
      },
      "source": [
        "### 4.1 Understanding BERT's output"
      ]
    },
    {
      "cell_type": "code",
      "execution_count": 28,
      "metadata": {
        "id": "wwfDXGZr1xsE"
      },
      "outputs": [],
      "source": [
        "# get the first batch from our train_dl\n",
        "first_batch = next(iter(train_dl))"
      ]
    },
    {
      "cell_type": "markdown",
      "metadata": {
        "id": "Ool4ysw53TON"
      },
      "source": [
        "Have a look at the `first_batch`. "
      ]
    },
    {
      "cell_type": "code",
      "execution_count": 29,
      "metadata": {
        "colab": {
          "base_uri": "https://localhost:8080/"
        },
        "id": "dKcHyYbv5czd",
        "outputId": "67f4e56c-3e4c-4ea7-a88a-8e988274480c"
      },
      "outputs": [
        {
          "data": {
            "text/plain": [
              "[tensor([[  101, 13576,  2000,  ...,  1012,  2002,   102],\n",
              "         [  101,  2298,  1010,  ...,  1037,  4438,   102],\n",
              "         [  101,  1045,  4149,  ...,  1996,  5557,   102],\n",
              "         ...,\n",
              "         [  101,  1045,  3728,  ...,  1010,  2021,   102],\n",
              "         [  101, 10166,  1010,  ...,  7987,  1013,   102],\n",
              "         [  101,  1000, 19924,  ...,     0,     0,     0]]),\n",
              " tensor([[1, 1, 1,  ..., 1, 1, 1],\n",
              "         [1, 1, 1,  ..., 1, 1, 1],\n",
              "         [1, 1, 1,  ..., 1, 1, 1],\n",
              "         ...,\n",
              "         [1, 1, 1,  ..., 1, 1, 1],\n",
              "         [1, 1, 1,  ..., 1, 1, 1],\n",
              "         [1, 1, 1,  ..., 0, 0, 0]]),\n",
              " tensor([0, 0, 0, 1, 1, 1, 0, 1, 1, 0, 0, 1, 1, 0, 1, 1, 1, 0, 0, 1, 0, 1, 0, 0,\n",
              "         1, 0, 0, 1, 1, 0, 0, 1])]"
            ]
          },
          "execution_count": 29,
          "metadata": {},
          "output_type": "execute_result"
        }
      ],
      "source": [
        "# first batch\n",
        "first_batch"
      ]
    },
    {
      "cell_type": "markdown",
      "metadata": {
        "id": "rEewu3Pp3pbd"
      },
      "source": [
        "Save the input ids in a variable called `input_ids` and the attention mask into an variable called `attention_mask`. You can ignore the labels for now."
      ]
    },
    {
      "cell_type": "code",
      "execution_count": 30,
      "metadata": {
        "colab": {
          "base_uri": "https://localhost:8080/"
        },
        "id": "qO53dijPgUsM",
        "outputId": "4cf3231b-a65b-4561-9ebc-bfd753233ec0"
      },
      "outputs": [
        {
          "data": {
            "text/plain": [
              "tensor([[  101, 13576,  2000,  ...,  1012,  2002,   102],\n",
              "        [  101,  2298,  1010,  ...,  1037,  4438,   102],\n",
              "        [  101,  1045,  4149,  ...,  1996,  5557,   102],\n",
              "        ...,\n",
              "        [  101,  1045,  3728,  ...,  1010,  2021,   102],\n",
              "        [  101, 10166,  1010,  ...,  7987,  1013,   102],\n",
              "        [  101,  1000, 19924,  ...,     0,     0,     0]])"
            ]
          },
          "execution_count": 30,
          "metadata": {},
          "output_type": "execute_result"
        }
      ],
      "source": [
        "input_ids = first_batch[0]\n",
        "input_ids"
      ]
    },
    {
      "cell_type": "code",
      "execution_count": 31,
      "metadata": {
        "colab": {
          "base_uri": "https://localhost:8080/"
        },
        "id": "if8wdNY_66pG",
        "outputId": "7eb516f0-3d73-47a6-8ebe-46f0fb8a5d2b"
      },
      "outputs": [
        {
          "data": {
            "text/plain": [
              "tensor([[1, 1, 1,  ..., 1, 1, 1],\n",
              "        [1, 1, 1,  ..., 1, 1, 1],\n",
              "        [1, 1, 1,  ..., 1, 1, 1],\n",
              "        ...,\n",
              "        [1, 1, 1,  ..., 1, 1, 1],\n",
              "        [1, 1, 1,  ..., 1, 1, 1],\n",
              "        [1, 1, 1,  ..., 0, 0, 0]])"
            ]
          },
          "execution_count": 31,
          "metadata": {},
          "output_type": "execute_result"
        }
      ],
      "source": [
        "attention_mask = first_batch[1]\n",
        "attention_mask"
      ]
    },
    {
      "cell_type": "markdown",
      "metadata": {
        "id": "CK6a6FIZ4Ewj"
      },
      "source": [
        "In the first chapter we downloaded the pretrained DistilBert Model and saved it as `bert_model`. For the forward propagation the `bert_model`expects input ids and attention masks as an input. [This blog](https://jalammar.github.io/a-visual-guide-to-using-bert-for-the-first-time/) post is a very nice visualization and is very helpful for understanding coming out of the bert model."
      ]
    },
    {
      "cell_type": "markdown",
      "metadata": {
        "id": "FRgXKzKR2a0n"
      },
      "source": [
        "![Last hidden state](https://jalammar.github.io/images/distilBERT/bert-output-tensor-selection.png)"
      ]
    },
    {
      "cell_type": "code",
      "execution_count": 32,
      "metadata": {
        "id": "1dwETN2r5YoK"
      },
      "outputs": [],
      "source": [
        "last_hidden_state = bert_model(input_ids, attention_mask)"
      ]
    },
    {
      "cell_type": "markdown",
      "metadata": {
        "id": "Tjm08CGHekvq"
      },
      "source": [
        "Check the dimension of the models output and make sure you understand what each dimension represents. Slice the model so that you get all values for each `[CLS]` token in the batch"
      ]
    },
    {
      "cell_type": "code",
      "execution_count": 33,
      "metadata": {
        "colab": {
          "base_uri": "https://localhost:8080/"
        },
        "id": "7hhTk801et9I",
        "outputId": "e2f5308d-2c2e-42c9-97ef-41513a9d6a53"
      },
      "outputs": [
        {
          "data": {
            "text/plain": [
              "torch.Size([32, 128, 768])"
            ]
          },
          "execution_count": 33,
          "metadata": {},
          "output_type": "execute_result"
        }
      ],
      "source": [
        "# shape of last hidden state\n",
        "last_hidden_state[0].shape"
      ]
    },
    {
      "cell_type": "code",
      "execution_count": 34,
      "metadata": {
        "colab": {
          "base_uri": "https://localhost:8080/"
        },
        "id": "th1yaUglfd9u",
        "outputId": "092fe385-0322-4cb1-dbba-ff5b1f8b5350"
      },
      "outputs": [
        {
          "data": {
            "text/plain": [
              "tensor([[-0.2453, -0.1459, -0.2442,  ...,  0.1471,  0.3280,  0.2470],\n",
              "        [ 0.3451, -0.2022, -0.0219,  ..., -0.1738,  0.6373,  0.2287],\n",
              "        [ 0.0793, -0.0746, -0.1523,  ..., -0.0413,  0.4665,  0.2673],\n",
              "        ...,\n",
              "        [ 0.1495, -0.2639, -0.0967,  ..., -0.0303,  0.4130,  0.3608],\n",
              "        [ 0.0790,  0.0370,  0.0137,  ..., -0.0948,  0.4720,  0.3284],\n",
              "        [-0.0808, -0.2469,  0.0037,  ..., -0.1047,  0.6441,  0.1435]],\n",
              "       grad_fn=<SliceBackward0>)"
            ]
          },
          "execution_count": 34,
          "metadata": {},
          "output_type": "execute_result"
        }
      ],
      "source": [
        "# Select [CLS] Token\n",
        "# CLS Token is the first position\n",
        "last_hidden_state[0][:,0,:]"
      ]
    },
    {
      "cell_type": "code",
      "execution_count": 35,
      "metadata": {
        "colab": {
          "base_uri": "https://localhost:8080/"
        },
        "id": "_kUUvsvQf722",
        "outputId": "e4721a4c-a146-459e-a23d-708eb9e5f5b2"
      },
      "outputs": [
        {
          "data": {
            "text/plain": [
              "torch.Size([32, 768])"
            ]
          },
          "execution_count": 35,
          "metadata": {},
          "output_type": "execute_result"
        }
      ],
      "source": [
        "# check the shape of the [CLS] tokens\n",
        "last_hidden_state[0][:,0,:].shape"
      ]
    },
    {
      "cell_type": "markdown",
      "metadata": {
        "id": "D5Es53OwgZIt"
      },
      "source": [
        "### 4.2 Defining the Model\n",
        "Now create a neural network called `BertClassifier`. The constructor should receive the pretrained bert model and the number of classes.\n",
        "In the constructor save the bert model into a variable `bert`. Create a linear layer and think which input and output dimensions are needed.\n",
        "\n",
        "The `forward()` should receive `input_ids` and `attention_mask` as input and should propate them through the layers."
      ]
    },
    {
      "cell_type": "code",
      "execution_count": 66,
      "metadata": {
        "id": "eht1dRbBaZtA"
      },
      "outputs": [],
      "source": [
        "# implement BertClassifier\n",
        "class BertClassifier(nn.Module):\n",
        "\n",
        "  def __init__(self, bert_model, n_classes):\n",
        "    super().__init__()\n",
        "    self.bert = bert_model\n",
        "    self.l1 = nn.Linear(768, n_classes)\n",
        "    self.activation = nn.Sigmoid() # Sigmoid is recommended for binary tasks \n",
        "\n",
        "  def freeze_bert(self):\n",
        "    for param in self.bert.parameters():\n",
        "      param.requires_grad = False\n",
        "\n",
        "\n",
        "  def forward(self, input_ids, attention_mask):\n",
        "    # feed input to bert\n",
        "    X = self.bert(input_ids, attention_mask)\n",
        "    # extract [CLS] for the classification\n",
        "    X = X.last_hidden_state[:, 0, :]\n",
        "    X = self.l1(X)\n",
        "    X = self.activation(X)\n",
        "    return X"
      ]
    },
    {
      "cell_type": "code",
      "execution_count": 67,
      "metadata": {
        "id": "GmqxoH9bcU-X"
      },
      "outputs": [],
      "source": [
        "# instiantiate the model\n",
        "model = BertClassifier(bert_model=bert_model, n_classes=1)"
      ]
    },
    {
      "cell_type": "markdown",
      "metadata": {
        "id": "vBS6Zo4ctfKC"
      },
      "source": [
        "## 5. Model Training\n",
        "After defining the model we now have everything we need to train our model."
      ]
    },
    {
      "cell_type": "markdown",
      "metadata": {
        "id": "ywZHOUdHxA2a"
      },
      "source": [
        "### 5.1 Moving to the GPU"
      ]
    },
    {
      "cell_type": "markdown",
      "metadata": {
        "id": "b_79GWPUubFF"
      },
      "source": [
        "In previous exercises our models were quite small with only a couple of thousand parameters. Our BERT classifier is several magnitudes larger (about 66M parameters). With that many parameters it becomes necessary to train on the gpu.\n",
        "\n",
        "We can easily move our model to the gpu with the following command:\n",
        "  `model.to('gpu')`. But there is one problem. If there is no 'gpu' available the code will crash. There is an easy way to check if a gpu is available:\n",
        "  "
      ]
    },
    {
      "cell_type": "code",
      "execution_count": 68,
      "metadata": {
        "colab": {
          "base_uri": "https://localhost:8080/",
          "height": 35
        },
        "id": "EId8J2Iev5tT",
        "outputId": "e86f83f2-3f22-41ed-e4b2-b375560bbbd3"
      },
      "outputs": [
        {
          "data": {
            "application/vnd.google.colaboratory.intrinsic+json": {
              "type": "string"
            },
            "text/plain": [
              "'cuda'"
            ]
          },
          "execution_count": 68,
          "metadata": {},
          "output_type": "execute_result"
        }
      ],
      "source": [
        "DEVICE = 'cuda' if torch.cuda.is_available() else 'cpu'\n",
        "DEVICE"
      ]
    },
    {
      "cell_type": "markdown",
      "metadata": {
        "id": "__VP6sZ9wc67"
      },
      "source": [
        "We can now move our model to the gpu safely. If there is no gpu available the model just stays on the cpu."
      ]
    },
    {
      "cell_type": "code",
      "execution_count": 69,
      "metadata": {
        "colab": {
          "base_uri": "https://localhost:8080/"
        },
        "id": "QACcTLD7cfPa",
        "outputId": "9fa25489-986a-422e-c23d-aafc9bb80eef"
      },
      "outputs": [
        {
          "data": {
            "text/plain": [
              "BertClassifier(\n",
              "  (bert): DistilBertModel(\n",
              "    (embeddings): Embeddings(\n",
              "      (word_embeddings): Embedding(30522, 768, padding_idx=0)\n",
              "      (position_embeddings): Embedding(512, 768)\n",
              "      (LayerNorm): LayerNorm((768,), eps=1e-12, elementwise_affine=True)\n",
              "      (dropout): Dropout(p=0.1, inplace=False)\n",
              "    )\n",
              "    (transformer): Transformer(\n",
              "      (layer): ModuleList(\n",
              "        (0-5): 6 x TransformerBlock(\n",
              "          (attention): MultiHeadSelfAttention(\n",
              "            (dropout): Dropout(p=0.1, inplace=False)\n",
              "            (q_lin): Linear(in_features=768, out_features=768, bias=True)\n",
              "            (k_lin): Linear(in_features=768, out_features=768, bias=True)\n",
              "            (v_lin): Linear(in_features=768, out_features=768, bias=True)\n",
              "            (out_lin): Linear(in_features=768, out_features=768, bias=True)\n",
              "          )\n",
              "          (sa_layer_norm): LayerNorm((768,), eps=1e-12, elementwise_affine=True)\n",
              "          (ffn): FFN(\n",
              "            (dropout): Dropout(p=0.1, inplace=False)\n",
              "            (lin1): Linear(in_features=768, out_features=3072, bias=True)\n",
              "            (lin2): Linear(in_features=3072, out_features=768, bias=True)\n",
              "            (activation): GELUActivation()\n",
              "          )\n",
              "          (output_layer_norm): LayerNorm((768,), eps=1e-12, elementwise_affine=True)\n",
              "        )\n",
              "      )\n",
              "    )\n",
              "  )\n",
              "  (l1): Linear(in_features=768, out_features=1, bias=True)\n",
              "  (activation): Sigmoid()\n",
              ")"
            ]
          },
          "execution_count": 69,
          "metadata": {},
          "output_type": "execute_result"
        }
      ],
      "source": [
        "# pass the model to the gpu\n",
        "model.to(DEVICE)"
      ]
    },
    {
      "cell_type": "markdown",
      "metadata": {
        "id": "HNOxzW_ewtAP"
      },
      "source": [
        "### 5.2 Setting up the training"
      ]
    },
    {
      "cell_type": "code",
      "execution_count": 70,
      "metadata": {
        "id": "ebgzspzldym3"
      },
      "outputs": [],
      "source": [
        "import torch\n",
        "\n",
        "epochs = 20\n",
        "lr = 0.001\n",
        "optimizer = torch.optim.AdamW(model.parameters(), lr=lr)\n",
        "loss_func = nn.BCELoss()  # Binary Cross Entropy Loss"
      ]
    },
    {
      "cell_type": "code",
      "execution_count": 71,
      "metadata": {
        "id": "Wl2N3WAod6-P"
      },
      "outputs": [],
      "source": [
        "# To get a better idea of how well your model performs\n",
        "# you should implement an accuracy function that is\n",
        "# called after each epoch of your training loop\n",
        "def accuracy(out, yb):\n",
        "    preds = out >= 0.5\n",
        "    return (preds == yb).float().mean()"
      ]
    },
    {
      "cell_type": "code",
      "execution_count": 72,
      "metadata": {
        "id": "oYpQEvJcxK7z"
      },
      "outputs": [],
      "source": [
        "# Freezing Parameters of bert\n",
        "\n",
        "model.freeze_bert()"
      ]
    },
    {
      "cell_type": "markdown",
      "metadata": {
        "id": "rKFG6nNHxYG1"
      },
      "source": [
        "### 5.3 Train the model\n",
        "The training loop is almost the same as in the first exercise of the course. Spot and understand the differences"
      ]
    },
    {
      "cell_type": "code",
      "execution_count": 73,
      "metadata": {
        "id": "1nreDgJaAf7L"
      },
      "outputs": [],
      "source": [
        "def train(net, train_dl, val_dl , epochs, optimizer, loss_func):\n",
        "    # set the model on train mode\n",
        "    net.train()\n",
        "    # define arrays for evaluation\n",
        "    train_losses, valid_losses = [], []\n",
        "    train_accs, valid_accs = [], []\n",
        "\n",
        "    # loop over all epochs\n",
        "    for epoch in tqdm(range(epochs)):\n",
        "        # reset evaluation variables\n",
        "        train_loss, valid_loss = 0, 0\n",
        "        train_acc, valid_acc = 0, 0        \n",
        "        # training loop\n",
        "        for step, batch in enumerate(train_dl):            \n",
        "            # push batch to gpu\n",
        "            input_ids, attention_mask, labels = [x.to(DEVICE) for x in batch]                   \n",
        "            # predict\n",
        "            y_hat = net(\n",
        "                input_ids=input_ids,\n",
        "                attention_mask=attention_mask\n",
        "            )            \n",
        "            # calculate loss and adjust weights\n",
        "            labels = labels.unsqueeze(1).float() # reshape target tensor        \n",
        "            loss = loss_func(y_hat, labels)\n",
        "            # zero the all gradients\n",
        "            # calc gradients\n",
        "            loss.backward()\n",
        "            # update weights\n",
        "            optimizer.step()\n",
        "            # reset optimizer\n",
        "            optimizer.zero_grad()\n",
        "            # calculate evaluation kpis\n",
        "            train_loss += loss\n",
        "            train_acc  += accuracy(y_hat, labels) \n",
        "\n",
        "        net.eval()\n",
        "        # valiadation loop\n",
        "        with torch.no_grad():\n",
        "          for step, batch in enumerate(val_dl):\n",
        "            # push batch to gpu\n",
        "            input_ids, attention_mask, labels = [x.to(DEVICE) for x in batch]\n",
        "            # predict\n",
        "            y_hat = net(\n",
        "                input_ids=input_ids,\n",
        "                attention_mask=attention_mask\n",
        "            )\n",
        "            # calculate evaluation kpis\n",
        "            labels = labels.unsqueeze(1).float() # reshape target tensor\n",
        "            loss = loss_func(y_hat, labels)\n",
        "            valid_loss += loss\n",
        "            valid_acc  += accuracy(y_hat, labels)\n",
        "            \n",
        "\n",
        "        # calculations for evaluations\n",
        "        train_loss /= len(train_dl)\n",
        "        train_acc  /= len(train_dl)\n",
        "        valid_loss /= len(val_dl)\n",
        "        valid_acc  /= len(val_dl)\n",
        "\n",
        "        train_losses.append(train_loss)\n",
        "        valid_losses.append(valid_loss)\n",
        "        train_accs.append(train_acc)\n",
        "        valid_accs.append(valid_acc)\n",
        "\n",
        "\n",
        "        print(f'Epoch: {epoch+1} \\tTraining Loss: {train_loss:.6f} \\tTraining Acc: {train_acc:.6f} \\tValidation Loss: {valid_loss:.6f} \\tValidation Acc: {valid_acc:.6f}')\n",
        "\n",
        "    # return losses for plotting  \n",
        "    return train_losses, valid_losses, train_accs, valid_accs"
      ]
    },
    {
      "cell_type": "code",
      "execution_count": 74,
      "metadata": {
        "colab": {
          "base_uri": "https://localhost:8080/",
          "height": 396,
          "referenced_widgets": [
            "5eb4817c27504185816159e8e3212073",
            "9952909fd98d4d1cab5541aaca05dcb5",
            "ec3d9b24a1434cf8afda56ccfe8e3d4d",
            "9091aab4834346e38500bcc6ff0b5bb1",
            "195310a1541e4cf09623b9cc8e90c695",
            "6e8828a8104e47c5a81b6ebbfad4b104",
            "5d7966deb2134e7d87d038dd5809809a",
            "32ec17b4dcef46a2a5755a55183d39f7",
            "5a72a08c6f094567bab164d94a966a88",
            "f29e8f4977974027b575fd7ce1528b0c",
            "ded51712a5e4411089b7fd35fa01d041"
          ]
        },
        "id": "QFTFQrXahJ3u",
        "outputId": "d5b0ad4b-1168-4912-81c5-5771274aaeb8"
      },
      "outputs": [
        {
          "data": {
            "application/vnd.jupyter.widget-view+json": {
              "model_id": "5eb4817c27504185816159e8e3212073",
              "version_major": 2,
              "version_minor": 0
            },
            "text/plain": [
              "  0%|          | 0/20 [00:00<?, ?it/s]"
            ]
          },
          "metadata": {},
          "output_type": "display_data"
        },
        {
          "name": "stdout",
          "output_type": "stream",
          "text": [
            "Epoch: 1 \tTraining Loss: 0.501443 \tTraining Acc: 0.769750 \tValidation Loss: 0.444568 \tValidation Acc: 0.795727\n",
            "Epoch: 2 \tTraining Loss: 0.434643 \tTraining Acc: 0.801075 \tValidation Loss: 0.422984 \tValidation Acc: 0.808906\n",
            "Epoch: 3 \tTraining Loss: 0.424340 \tTraining Acc: 0.807250 \tValidation Loss: 0.416522 \tValidation Acc: 0.809804\n",
            "Epoch: 4 \tTraining Loss: 0.419065 \tTraining Acc: 0.809925 \tValidation Loss: 0.412890 \tValidation Acc: 0.811701\n",
            "Epoch: 5 \tTraining Loss: 0.415622 \tTraining Acc: 0.811800 \tValidation Loss: 0.414829 \tValidation Acc: 0.811801\n",
            "Epoch: 6 \tTraining Loss: 0.413123 \tTraining Acc: 0.812725 \tValidation Loss: 0.409591 \tValidation Acc: 0.813099\n",
            "Epoch: 7 \tTraining Loss: 0.411293 \tTraining Acc: 0.814150 \tValidation Loss: 0.406162 \tValidation Acc: 0.815395\n",
            "Epoch: 8 \tTraining Loss: 0.409513 \tTraining Acc: 0.814975 \tValidation Loss: 0.405188 \tValidation Acc: 0.815695\n",
            "Epoch: 9 \tTraining Loss: 0.408082 \tTraining Acc: 0.815150 \tValidation Loss: 0.405394 \tValidation Acc: 0.814397\n",
            "Epoch: 10 \tTraining Loss: 0.407298 \tTraining Acc: 0.815100 \tValidation Loss: 0.405669 \tValidation Acc: 0.812600\n",
            "Epoch: 11 \tTraining Loss: 0.405624 \tTraining Acc: 0.817125 \tValidation Loss: 0.403261 \tValidation Acc: 0.816993\n",
            "Epoch: 12 \tTraining Loss: 0.404688 \tTraining Acc: 0.817975 \tValidation Loss: 0.402377 \tValidation Acc: 0.816693\n",
            "Epoch: 13 \tTraining Loss: 0.403904 \tTraining Acc: 0.818550 \tValidation Loss: 0.402286 \tValidation Acc: 0.816094\n",
            "Epoch: 14 \tTraining Loss: 0.403991 \tTraining Acc: 0.818300 \tValidation Loss: 0.404325 \tValidation Acc: 0.813399\n",
            "Epoch: 15 \tTraining Loss: 0.403219 \tTraining Acc: 0.818300 \tValidation Loss: 0.408958 \tValidation Acc: 0.810903\n",
            "Epoch: 16 \tTraining Loss: 0.402884 \tTraining Acc: 0.818375 \tValidation Loss: 0.399430 \tValidation Acc: 0.818291\n",
            "Epoch: 17 \tTraining Loss: 0.402087 \tTraining Acc: 0.818375 \tValidation Loss: 0.400980 \tValidation Acc: 0.819289\n",
            "Epoch: 18 \tTraining Loss: 0.402063 \tTraining Acc: 0.818925 \tValidation Loss: 0.403080 \tValidation Acc: 0.818490\n",
            "Epoch: 19 \tTraining Loss: 0.400638 \tTraining Acc: 0.819325 \tValidation Loss: 0.400618 \tValidation Acc: 0.817692\n",
            "Epoch: 20 \tTraining Loss: 0.401087 \tTraining Acc: 0.818125 \tValidation Loss: 0.399610 \tValidation Acc: 0.819089\n"
          ]
        }
      ],
      "source": [
        "# Execute the train function and train the model.\n",
        "train_losses, valid_losses, train_accs, valid_accs = train(model, train_dl, val_dl, epochs, optimizer, loss_func)"
      ]
    },
    {
      "cell_type": "code",
      "execution_count": 75,
      "metadata": {
        "colab": {
          "base_uri": "https://localhost:8080/",
          "height": 452
        },
        "id": "KGkF_RT67eEy",
        "outputId": "be7d6260-d727-4bd1-cc15-a67b44a29a61"
      },
      "outputs": [
        {
          "data": {
            "image/png": "[encoded data removed]",
            "text/plain": [
              "<Figure size 640x480 with 1 Axes>"
            ]
          },
          "metadata": {},
          "output_type": "display_data"
        }
      ],
      "source": [
        "func = lambda x : x.cpu().item()\n",
        "\n",
        "plt.title(\"Loss\")\n",
        "plt.plot(list(map(func, train_losses)), label='Train Loss')\n",
        "plt.plot(list(map(func, valid_losses)), label='Valid Loss')\n",
        "plt.legend()\n",
        "plt.show()"
      ]
    },
    {
      "cell_type": "code",
      "execution_count": 76,
      "metadata": {
        "colab": {
          "base_uri": "https://localhost:8080/",
          "height": 452
        },
        "id": "NTjYXQh7GUy_",
        "outputId": "220963be-d9f1-46c2-d2a2-5ed73fdd0ff6"
      },
      "outputs": [
        {
          "data": {
            "image/png": "[encoded data removed]",
            "text/plain": [
              "<Figure size 640x480 with 1 Axes>"
            ]
          },
          "metadata": {},
          "output_type": "display_data"
        }
      ],
      "source": [
        "plt.title(\"Accuracy\")\n",
        "plt.plot(list(map(func, train_accs)), label='Train Accuracy')\n",
        "plt.plot(list(map(func, valid_accs)), label='Valid Accuracy')\n",
        "plt.legend()\n",
        "plt.show()"
      ]
    },
    {
      "cell_type": "code",
      "execution_count": null,
      "metadata": {
        "id": "-6NbflqdLkrN"
      },
      "outputs": [],
      "source": []
    }
  ],
  "metadata": {
    "accelerator": "GPU",
    "colab": {
      "gpuType": "T4",
      "provenance": []
    },
    "gpuClass": "standard",
    "kernelspec": {
      "display_name": "Python 3",
      "name": "python3"
    },
    "language_info": {
      "name": "python"
    },
    "widgets": {
      "application/vnd.jupyter.widget-state+json": {
        "195310a1541e4cf09623b9cc8e90c695": {
          "model_module": "@jupyter-widgets/base",
          "model_module_version": "1.2.0",
          "model_name": "LayoutModel",
          "state": {
            "_model_module": "@jupyter-widgets/base",
            "_model_module_version": "1.2.0",
            "_model_name": "LayoutModel",
            "_view_count": null,
            "_view_module": "@jupyter-widgets/base",
            "_view_module_version": "1.2.0",
            "_view_name": "LayoutView",
            "align_content": null,
            "align_items": null,
            "align_self": null,
            "border": null,
            "bottom": null,
            "display": null,
            "flex": null,
            "flex_flow": null,
            "grid_area": null,
            "grid_auto_columns": null,
            "grid_auto_flow": null,
            "grid_auto_rows": null,
            "grid_column": null,
            "grid_gap": null,
            "grid_row": null,
            "grid_template_areas": null,
            "grid_template_columns": null,
            "grid_template_rows": null,
            "height": null,
            "justify_content": null,
            "justify_items": null,
            "left": null,
            "margin": null,
            "max_height": null,
            "max_width": null,
            "min_height": null,
            "min_width": null,
            "object_fit": null,
            "object_position": null,
            "order": null,
            "overflow": null,
            "overflow_x": null,
            "overflow_y": null,
            "padding": null,
            "right": null,
            "top": null,
            "visibility": null,
            "width": null
          }
        },
        "32ec17b4dcef46a2a5755a55183d39f7": {
          "model_module": "@jupyter-widgets/base",
          "model_module_version": "1.2.0",
          "model_name": "LayoutModel",
          "state": {
            "_model_module": "@jupyter-widgets/base",
            "_model_module_version": "1.2.0",
            "_model_name": "LayoutModel",
            "_view_count": null,
            "_view_module": "@jupyter-widgets/base",
            "_view_module_version": "1.2.0",
            "_view_name": "LayoutView",
            "align_content": null,
            "align_items": null,
            "align_self": null,
            "border": null,
            "bottom": null,
            "display": null,
            "flex": null,
            "flex_flow": null,
            "grid_area": null,
            "grid_auto_columns": null,
            "grid_auto_flow": null,
            "grid_auto_rows": null,
            "grid_column": null,
            "grid_gap": null,
            "grid_row": null,
            "grid_template_areas": null,
            "grid_template_columns": null,
            "grid_template_rows": null,
            "height": null,
            "justify_content": null,
            "justify_items": null,
            "left": null,
            "margin": null,
            "max_height": null,
            "max_width": null,
            "min_height": null,
            "min_width": null,
            "object_fit": null,
            "object_position": null,
            "order": null,
            "overflow": null,
            "overflow_x": null,
            "overflow_y": null,
            "padding": null,
            "right": null,
            "top": null,
            "visibility": null,
            "width": null
          }
        },
        "5a72a08c6f094567bab164d94a966a88": {
          "model_module": "@jupyter-widgets/controls",
          "model_module_version": "1.5.0",
          "model_name": "ProgressStyleModel",
          "state": {
            "_model_module": "@jupyter-widgets/controls",
            "_model_module_version": "1.5.0",
            "_model_name": "ProgressStyleModel",
            "_view_count": null,
            "_view_module": "@jupyter-widgets/base",
            "_view_module_version": "1.2.0",
            "_view_name": "StyleView",
            "bar_color": null,
            "description_width": ""
          }
        },
        "5d7966deb2134e7d87d038dd5809809a": {
          "model_module": "@jupyter-widgets/controls",
          "model_module_version": "1.5.0",
          "model_name": "DescriptionStyleModel",
          "state": {
            "_model_module": "@jupyter-widgets/controls",
            "_model_module_version": "1.5.0",
            "_model_name": "DescriptionStyleModel",
            "_view_count": null,
            "_view_module": "@jupyter-widgets/base",
            "_view_module_version": "1.2.0",
            "_view_name": "StyleView",
            "description_width": ""
          }
        },
        "5eb4817c27504185816159e8e3212073": {
          "model_module": "@jupyter-widgets/controls",
          "model_module_version": "1.5.0",
          "model_name": "HBoxModel",
          "state": {
            "_dom_classes": [],
            "_model_module": "@jupyter-widgets/controls",
            "_model_module_version": "1.5.0",
            "_model_name": "HBoxModel",
            "_view_count": null,
            "_view_module": "@jupyter-widgets/controls",
            "_view_module_version": "1.5.0",
            "_view_name": "HBoxView",
            "box_style": "",
            "children": [
              "IPY_MODEL_9952909fd98d4d1cab5541aaca05dcb5",
              "IPY_MODEL_ec3d9b24a1434cf8afda56ccfe8e3d4d",
              "IPY_MODEL_9091aab4834346e38500bcc6ff0b5bb1"
            ],
            "layout": "IPY_MODEL_195310a1541e4cf09623b9cc8e90c695"
          }
        },
        "6e8828a8104e47c5a81b6ebbfad4b104": {
          "model_module": "@jupyter-widgets/base",
          "model_module_version": "1.2.0",
          "model_name": "LayoutModel",
          "state": {
            "_model_module": "@jupyter-widgets/base",
            "_model_module_version": "1.2.0",
            "_model_name": "LayoutModel",
            "_view_count": null,
            "_view_module": "@jupyter-widgets/base",
            "_view_module_version": "1.2.0",
            "_view_name": "LayoutView",
            "align_content": null,
            "align_items": null,
            "align_self": null,
            "border": null,
            "bottom": null,
            "display": null,
            "flex": null,
            "flex_flow": null,
            "grid_area": null,
            "grid_auto_columns": null,
            "grid_auto_flow": null,
            "grid_auto_rows": null,
            "grid_column": null,
            "grid_gap": null,
            "grid_row": null,
            "grid_template_areas": null,
            "grid_template_columns": null,
            "grid_template_rows": null,
            "height": null,
            "justify_content": null,
            "justify_items": null,
            "left": null,
            "margin": null,
            "max_height": null,
            "max_width": null,
            "min_height": null,
            "min_width": null,
            "object_fit": null,
            "object_position": null,
            "order": null,
            "overflow": null,
            "overflow_x": null,
            "overflow_y": null,
            "padding": null,
            "right": null,
            "top": null,
            "visibility": null,
            "width": null
          }
        },
        "9091aab4834346e38500bcc6ff0b5bb1": {
          "model_module": "@jupyter-widgets/controls",
          "model_module_version": "1.5.0",
          "model_name": "HTMLModel",
          "state": {
            "_dom_classes": [],
            "_model_module": "@jupyter-widgets/controls",
            "_model_module_version": "1.5.0",
            "_model_name": "HTMLModel",
            "_view_count": null,
            "_view_module": "@jupyter-widgets/controls",
            "_view_module_version": "1.5.0",
            "_view_name": "HTMLView",
            "description": "",
            "description_tooltip": null,
            "layout": "IPY_MODEL_f29e8f4977974027b575fd7ce1528b0c",
            "placeholder": "​",
            "style": "IPY_MODEL_ded51712a5e4411089b7fd35fa01d041",
            "value": " 20/20 [53:44&lt;00:00, 161.16s/it]"
          }
        },
        "9952909fd98d4d1cab5541aaca05dcb5": {
          "model_module": "@jupyter-widgets/controls",
          "model_module_version": "1.5.0",
          "model_name": "HTMLModel",
          "state": {
            "_dom_classes": [],
            "_model_module": "@jupyter-widgets/controls",
            "_model_module_version": "1.5.0",
            "_model_name": "HTMLModel",
            "_view_count": null,
            "_view_module": "@jupyter-widgets/controls",
            "_view_module_version": "1.5.0",
            "_view_name": "HTMLView",
            "description": "",
            "description_tooltip": null,
            "layout": "IPY_MODEL_6e8828a8104e47c5a81b6ebbfad4b104",
            "placeholder": "​",
            "style": "IPY_MODEL_5d7966deb2134e7d87d038dd5809809a",
            "value": "100%"
          }
        },
        "ded51712a5e4411089b7fd35fa01d041": {
          "model_module": "@jupyter-widgets/controls",
          "model_module_version": "1.5.0",
          "model_name": "DescriptionStyleModel",
          "state": {
            "_model_module": "@jupyter-widgets/controls",
            "_model_module_version": "1.5.0",
            "_model_name": "DescriptionStyleModel",
            "_view_count": null,
            "_view_module": "@jupyter-widgets/base",
            "_view_module_version": "1.2.0",
            "_view_name": "StyleView",
            "description_width": ""
          }
        },
        "ec3d9b24a1434cf8afda56ccfe8e3d4d": {
          "model_module": "@jupyter-widgets/controls",
          "model_module_version": "1.5.0",
          "model_name": "FloatProgressModel",
          "state": {
            "_dom_classes": [],
            "_model_module": "@jupyter-widgets/controls",
            "_model_module_version": "1.5.0",
            "_model_name": "FloatProgressModel",
            "_view_count": null,
            "_view_module": "@jupyter-widgets/controls",
            "_view_module_version": "1.5.0",
            "_view_name": "ProgressView",
            "bar_style": "success",
            "description": "",
            "description_tooltip": null,
            "layout": "IPY_MODEL_32ec17b4dcef46a2a5755a55183d39f7",
            "max": 20,
            "min": 0,
            "orientation": "horizontal",
            "style": "IPY_MODEL_5a72a08c6f094567bab164d94a966a88",
            "value": 20
          }
        },
        "f29e8f4977974027b575fd7ce1528b0c": {
          "model_module": "@jupyter-widgets/base",
          "model_module_version": "1.2.0",
          "model_name": "LayoutModel",
          "state": {
            "_model_module": "@jupyter-widgets/base",
            "_model_module_version": "1.2.0",
            "_model_name": "LayoutModel",
            "_view_count": null,
            "_view_module": "@jupyter-widgets/base",
            "_view_module_version": "1.2.0",
            "_view_name": "LayoutView",
            "align_content": null,
            "align_items": null,
            "align_self": null,
            "border": null,
            "bottom": null,
            "display": null,
            "flex": null,
            "flex_flow": null,
            "grid_area": null,
            "grid_auto_columns": null,
            "grid_auto_flow": null,
            "grid_auto_rows": null,
            "grid_column": null,
            "grid_gap": null,
            "grid_row": null,
            "grid_template_areas": null,
            "grid_template_columns": null,
            "grid_template_rows": null,
            "height": null,
            "justify_content": null,
            "justify_items": null,
            "left": null,
            "margin": null,
            "max_height": null,
            "max_width": null,
            "min_height": null,
            "min_width": null,
            "object_fit": null,
            "object_position": null,
            "order": null,
            "overflow": null,
            "overflow_x": null,
            "overflow_y": null,
            "padding": null,
            "right": null,
            "top": null,
            "visibility": null,
            "width": null
          }
        }
      }
    }
  },
  "nbformat": 4,
  "nbformat_minor": 0
}
